{
 "cells": [
  {
   "cell_type": "code",
   "execution_count": 1,
   "id": "26a8cde7-80dc-47b9-ac02-3bae548fa271",
   "metadata": {},
   "outputs": [],
   "source": [
    "using QuantumOptics\n",
    "using PyPlot\n",
    "using NPZ\n",
    "using ProgressBars\n",
    "using LinearAlgebra\n",
    "using SparseArrays"
   ]
  },
  {
   "cell_type": "code",
   "execution_count": 2,
   "id": "0cb5e680-473d-4e5a-9732-2fe1dfc12e99",
   "metadata": {},
   "outputs": [
    {
     "data": {
      "text/plain": [
       "1.67262192e-27"
      ]
     },
     "execution_count": 2,
     "metadata": {},
     "output_type": "execute_result"
    }
   ],
   "source": [
    "const ħ = 6.626e-34 / 2π\n",
    "const m_p = 1.67262192e-27"
   ]
  },
  {
   "cell_type": "code",
   "execution_count": 3,
   "id": "19061010-f43e-47ad-9eea-91db2d73841a",
   "metadata": {},
   "outputs": [
    {
     "data": {
      "text/plain": [
       "H_RydbergCZ (generic function with 1 method)"
      ]
     },
     "execution_count": 3,
     "metadata": {},
     "output_type": "execute_result"
    }
   ],
   "source": [
    "function H_RydbergCZ(Ω, ϕ; δ=0.0, δ_Doppler=0.0, δ_blockade=Inf, λ=302e-9, ω_trap=2π * 30e-3, nMax=10)\n",
    "    n_atom = 4\n",
    "    m_basis = FockBasis(nMax)\n",
    "    a_basis = NLevelBasis(n_atom)\n",
    "\n",
    "    # Lamb-Dicke\n",
    "    η = 2π / λ * sqrt(ħ / 2 / 171 / m_p / ω_trap)\n",
    "    kick_pos = exp(im * η * (create(m_basis) + destroy(m_basis)))\n",
    "    kick_neg = exp(-im * η * (create(m_basis) + destroy(m_basis)))\n",
    "\n",
    "    # Free space Hamiltonian (trap turned off during gate), p^2/2m\n",
    "    H0 = -ω_trap / 4 * (tensor(identityoperator(a_basis), identityoperator(a_basis),\n",
    "                               (create(m_basis) - destroy(m_basis))^2, identityoperator(m_basis))\n",
    "                        + tensor(identityoperator(a_basis), identityoperator(a_basis),\n",
    "                                 identityoperator(m_basis), (create(m_basis) - destroy(m_basis))^2))\n",
    "    # Rydberg Rabi\n",
    "    H =  Ω/2*(cis(-ϕ)*tensor(\n",
    "                    tensor(nlevelstate(a_basis, 1), nlevelstate(a_basis, 3)) ⊗ tensor(nlevelstate(a_basis, 1), nlevelstate(a_basis, 2))',\n",
    "                    identityoperator(m_basis), kick_neg\n",
    "                )   # 01 -> 0r\n",
    "                + cis(ϕ)*tensor(\n",
    "                    tensor(nlevelstate(a_basis, 1), nlevelstate(a_basis, 2)) ⊗ tensor(nlevelstate(a_basis, 1), nlevelstate(a_basis, 3))',\n",
    "                    identityoperator(m_basis), kick_pos\n",
    "                )  # 0r -> 01\n",
    "                + cis(-ϕ)*tensor(\n",
    "                    tensor(nlevelstate(a_basis, 3), nlevelstate(a_basis, 1)) ⊗ tensor(nlevelstate(a_basis, 2), nlevelstate(a_basis, 1))',\n",
    "                    kick_neg, identityoperator(m_basis)\n",
    "                )# 10 -> r0\n",
    "                + cis(ϕ)*tensor(\n",
    "                    tensor(nlevelstate(a_basis, 2), nlevelstate(a_basis, 1)) ⊗ tensor(nlevelstate(a_basis, 3), nlevelstate(a_basis, 1))',\n",
    "                    kick_pos, identityoperator(m_basis)\n",
    "                )# r0 -> 10\n",
    "                + cis(-ϕ)*tensor(\n",
    "                    tensor(nlevelstate(a_basis, 2), nlevelstate(a_basis, 3)) ⊗ tensor(nlevelstate(a_basis, 2), nlevelstate(a_basis, 2))',\n",
    "                    identityoperator(m_basis), kick_neg\n",
    "                )# 11 -> 1r\n",
    "                + cis(ϕ)*tensor(\n",
    "                    tensor(nlevelstate(a_basis, 2), nlevelstate(a_basis, 2)) ⊗ tensor(nlevelstate(a_basis, 2), nlevelstate(a_basis, 3))',\n",
    "                    identityoperator(m_basis), kick_pos\n",
    "                )# 1r -> 11\n",
    "                + cis(-ϕ)*tensor(\n",
    "                    tensor(nlevelstate(a_basis, 3), nlevelstate(a_basis, 2)) ⊗ tensor(nlevelstate(a_basis, 2), nlevelstate(a_basis, 2))',\n",
    "                    kick_neg, identityoperator(m_basis)\n",
    "                )# 11 -> r1\n",
    "                + cis(ϕ)*tensor(\n",
    "                    tensor(nlevelstate(a_basis, 2), nlevelstate(a_basis, 2)) ⊗ tensor(nlevelstate(a_basis, 3), nlevelstate(a_basis, 2))',\n",
    "                    kick_pos, identityoperator(m_basis)\n",
    "                )\n",
    "            ) # r1 -> 11\n",
    "    \n",
    "    # Finite blockade\n",
    "    if isfinite(δ_blockade)\n",
    "        H += δ_blockade*tensor(\n",
    "            tensor(nlevelstate(a_basis, 3), nlevelstate(a_basis, 3)) ⊗ tensor(nlevelstate(a_basis, 3), nlevelstate(a_basis, 3))',\n",
    "            identityoperator(m_basis), identityoperator(m_basis)\n",
    "        )\n",
    "        H += Ω/2*(cis(-ϕ)*tensor(\n",
    "                    tensor(nlevelstate(a_basis, 3), nlevelstate(a_basis, 3)) ⊗ tensor(nlevelstate(a_basis, 2), nlevelstate(a_basis, 3))',\n",
    "                    kick_neg, identityoperator(m_basis)\n",
    "                )# 1r -> rr\n",
    "                + cis(ϕ)*tensor(\n",
    "                    tensor(nlevelstate(a_basis, 2), nlevelstate(a_basis, 3)) ⊗ tensor(nlevelstate(a_basis, 3), nlevelstate(a_basis, 3))',\n",
    "                    kick_pos, identityoperator(m_basis)\n",
    "                )# rr -> 1r\n",
    "                + cis(-ϕ)*tensor(\n",
    "                    tensor(nlevelstate(a_basis, 3), nlevelstate(a_basis, 3)) ⊗ tensor(nlevelstate(a_basis, 3), nlevelstate(a_basis, 2))',\n",
    "                    identityoperator(m_basis), kick_neg\n",
    "                )# r1 -> rr\n",
    "                + cis(ϕ)*tensor(\n",
    "                    tensor(nlevelstate(a_basis, 3), nlevelstate(a_basis, 2)) ⊗ tensor(nlevelstate(a_basis, 3), nlevelstate(a_basis, 3))',\n",
    "                    identityoperator(m_basis), kick_pos\n",
    "                )     # rr -> r1\n",
    "            )\n",
    "    end\n",
    "\n",
    "    # Opposite Doppler shift for two atoms for drive-by gates\n",
    "    if δ_Doppler != 0\n",
    "        H += δ_Doppler/2*tensor(\n",
    "            (-tensor(nlevelstate(a_basis, 1), nlevelstate(a_basis, 3)) ⊗ tensor(nlevelstate(a_basis, 1), nlevelstate(a_basis, 3))' # -0r\n",
    "             -tensor(nlevelstate(a_basis, 2), nlevelstate(a_basis, 3)) ⊗ tensor(nlevelstate(a_basis, 2), nlevelstate(a_basis, 3))'  # -1r\n",
    "             +tensor(nlevelstate(a_basis, 3), nlevelstate(a_basis, 1)) ⊗ tensor(nlevelstate(a_basis, 3), nlevelstate(a_basis, 1))'  # +r0\n",
    "             +tensor(nlevelstate(a_basis, 3), nlevelstate(a_basis, 2)) ⊗ tensor(nlevelstate(a_basis, 3), nlevelstate(a_basis, 2))'), # +r1\n",
    "            identityoperator(m_basis), identityoperator(m_basis)\n",
    "        )\n",
    "    end\n",
    "    \n",
    "    # Laser detuning\n",
    "    if δ != 0\n",
    "        H += δ*tensor(\n",
    "            (tensor(nlevelstate(a_basis, 1), nlevelstate(a_basis, 3)) ⊗ tensor(nlevelstate(a_basis, 1), nlevelstate(a_basis, 3))'     # 0r\n",
    "             +tensor(nlevelstate(a_basis, 2), nlevelstate(a_basis, 3)) ⊗ tensor(nlevelstate(a_basis, 2), nlevelstate(a_basis, 3))'     # 1r\n",
    "             +tensor(nlevelstate(a_basis, 3), nlevelstate(a_basis, 1)) ⊗ tensor(nlevelstate(a_basis, 3), nlevelstate(a_basis, 1))'     # r0\n",
    "             +tensor(nlevelstate(a_basis, 3), nlevelstate(a_basis, 2)) ⊗ tensor(nlevelstate(a_basis, 3), nlevelstate(a_basis, 2))'     # r1\n",
    "             +2*tensor(nlevelstate(a_basis, 3), nlevelstate(a_basis, 3)) ⊗ tensor(nlevelstate(a_basis, 3), nlevelstate(a_basis, 3))'),   # rr\n",
    "            identityoperator(m_basis), identityoperator(m_basis)\n",
    "        )\n",
    "    end\n",
    "\n",
    "    return H + H0\n",
    "end"
   ]
  },
  {
   "cell_type": "code",
   "execution_count": 4,
   "id": "c6981c99-eee6-436a-a4c1-4070a708c21b",
   "metadata": {},
   "outputs": [
    {
     "data": {
      "text/plain": [
       "thermal_fock (generic function with 1 method)"
      ]
     },
     "execution_count": 4,
     "metadata": {},
     "output_type": "execute_result"
    }
   ],
   "source": [
    "# The `thermalstate` function from QuantumOptics doesn't work with zero temperature\n",
    "function thermal_fock(basis::FockBasis, nbar)\n",
    "    nmax = length(basis) - 1\n",
    "    ns = 0:nmax\n",
    "    α = nbar / (1 + nbar)\n",
    "    return Operator(basis, diagm((1 - α) .* α.^ns))\n",
    "end"
   ]
  },
  {
   "cell_type": "code",
   "execution_count": 5,
   "id": "d4d5f0da-f4b5-4762-aef3-fd22897773bb",
   "metadata": {},
   "outputs": [
    {
     "data": {
      "text/plain": [
       "Rydberg_BellFid (generic function with 1 method)"
      ]
     },
     "execution_count": 5,
     "metadata": {},
     "output_type": "execute_result"
    }
   ],
   "source": [
    "function Rydberg_BellFid(ϕ_list, Ω, t_gate, num_slices;\n",
    "                         δ=0, δ_Doppler=0, δ_blockade=Inf, γ=0, γ_loss=0,\n",
    "                         λ=302e-9, ω_trap=2π * 30e-3, n_init=0, nMax=10)\n",
    "    n_atom = 4\n",
    "    m_basis = FockBasis(nMax)\n",
    "    a_basis = NLevelBasis(n_atom)\n",
    "    basis = a_basis ⊗ a_basis ⊗ m_basis ⊗ m_basis\n",
    "\n",
    "    @assert length(ϕ_list) == num_slices + 1\n",
    "    dt = t_gate / num_slices\n",
    "    c_ops = Operator{typeof(basis),typeof(basis),SparseMatrixCSC{ComplexF64,Int}}[]\n",
    "    # initial state |00> + |01> + |10> + |11>\n",
    "    state = tensor(\n",
    "        normalize(dm(tensor(nlevelstate(a_basis, 1), nlevelstate(a_basis, 1))\n",
    "        +tensor(nlevelstate(a_basis, 1), nlevelstate(a_basis, 2))\n",
    "        +tensor(nlevelstate(a_basis, 2), nlevelstate(a_basis, 1))\n",
    "        +tensor(nlevelstate(a_basis, 2), nlevelstate(a_basis, 2)))),\n",
    "        thermal_fock(m_basis, n_init),\n",
    "        thermal_fock(m_basis, n_init)\n",
    "    )\n",
    "    # target state |00> + |01> + |10> - |11>\n",
    "    target = normalize(tensor(nlevelstate(a_basis, 1), nlevelstate(a_basis, 1))\n",
    "            +tensor(nlevelstate(a_basis, 1), nlevelstate(a_basis, 2))\n",
    "            +tensor(nlevelstate(a_basis, 2), nlevelstate(a_basis, 1))\n",
    "            -tensor(nlevelstate(a_basis, 2), nlevelstate(a_basis, 2)))\n",
    "    for ϕ in tqdm(ϕ_list[1:end - 1])\n",
    "        H = H_RydbergCZ(\n",
    "                Ω, \n",
    "                ϕ,\n",
    "                δ=δ,\n",
    "                δ_Doppler=δ_Doppler,\n",
    "                δ_blockade=δ_blockade,\n",
    "                λ=λ,\n",
    "                ω_trap=ω_trap,\n",
    "                nMax=nMax\n",
    "        )\n",
    "        state = timeevolution.master([0, dt], state, H, c_ops)[2][end]\n",
    "    end\n",
    "    state = ptrace(state, [3, 4])\n",
    "        \n",
    "    Zrot = tensor(Operator(a_basis, diagm([1, cis(ϕ_list[end]), 1, 1])), \n",
    "                  Operator(a_basis, diagm([1, cis(ϕ_list[end]), 1, 1])))\n",
    "    state = Zrot * state * dagger(Zrot)\n",
    "    return abs2(fidelity(state, dm(target)))\n",
    "end"
   ]
  },
  {
   "cell_type": "code",
   "execution_count": 6,
   "id": "99da06d7-bccf-4436-b572-064eca3dfff2",
   "metadata": {},
   "outputs": [
    {
     "name": "stderr",
     "output_type": "stream",
     "text": [
      "0.0%┣                                                ┫ 0/8 [00:01<00:-5, -1s/it]\n",
      "12.5%┣█████▍                                     ┫ 1/8 [00:21<Inf:Inf, InfGs/it]\n",
      "25.0%┣███████████▊                                   ┫ 2/8 [00:35<03:29, 35s/it]\n",
      "37.5%┣█████████████████▋                             ┫ 3/8 [00:49<02:03, 25s/it]\n",
      "50.0%┣███████████████████████▌                       ┫ 4/8 [01:03<01:23, 21s/it]\n",
      "62.5%┣█████████████████████████████▍                 ┫ 5/8 [01:14<00:55, 18s/it]\n",
      "75.0%┣███████████████████████████████████▎           ┫ 6/8 [01:28<00:35, 18s/it]\n",
      "87.5%┣█████████████████████████████████████████▏     ┫ 7/8 [01:44<00:17, 17s/it]\n",
      "100.0%┣██████████████████████████████████████████████┫ 8/8 [01:59<00:00, 17s/it]\n",
      "100.0%┣██████████████████████████████████████████████┫ 8/8 [01:59<00:00, 17s/it]\n"
     ]
    },
    {
     "data": {
      "text/plain": [
       "0.9971040978587192"
      ]
     },
     "execution_count": 6,
     "metadata": {},
     "output_type": "execute_result"
    }
   ],
   "source": [
    "pulse_base = npzread(\"seq_base.npz\")\n",
    "phase_list = pulse_base[\"phase_list\"]\n",
    "num_slices = length(phase_list) - 1\n",
    "Omega = pulse_base[\"Omega\"]\n",
    "t_gate = pulse_base[\"t_gate\"]\n",
    "\n",
    "Rydberg_BellFid(phase_list,\n",
    "                Omega,\n",
    "                t_gate,\n",
    "                num_slices,\n",
    "                δ=0.,\n",
    "                δ_Doppler=0,\n",
    "                δ_blockade=Inf,\n",
    "                γ=0,\n",
    "                γ_loss=0,\n",
    "                λ=302e-9,\n",
    "                ω_trap=2π * 30e-3,\n",
    "                n_init=0,\n",
    "                nMax=14\n",
    "               )"
   ]
  },
  {
   "cell_type": "code",
   "execution_count": 7,
   "id": "9d5f20d5-9b29-4f4d-91df-46961cec11b9",
   "metadata": {},
   "outputs": [
    {
     "name": "stderr",
     "output_type": "stream",
     "text": [
      "0.0%┣                                               ┫ 0/10 [00:00<00:00, -0s/it]\n",
      "10.0%┣████▏                                     ┫ 1/10 [01:13<Inf:Inf, InfGs/it]\n",
      "20.0%┣█████████                                    ┫ 2/10 [01:49<14:36, 109s/it]\n",
      "30.0%┣█████████████▉                                ┫ 3/10 [02:27<08:33, 73s/it]\n",
      "40.0%┣██████████████████▍                           ┫ 4/10 [03:06<06:12, 62s/it]\n",
      "50.0%┣███████████████████████                       ┫ 5/10 [03:48<04:45, 57s/it]\n",
      "60.0%┣███████████████████████████▋                  ┫ 6/10 [04:35<03:40, 55s/it]\n",
      "70.0%┣████████████████████████████████▏             ┫ 7/10 [05:19<02:39, 53s/it]\n",
      "80.0%┣████████████████████████████████████▉         ┫ 8/10 [06:00<01:43, 51s/it]\n",
      "90.0%┣█████████████████████████████████████████▍    ┫ 9/10 [06:40<00:50, 50s/it]\n",
      "100.0%┣████████████████████████████████████████████┫ 10/10 [07:54<00:00, 53s/it]\n",
      "100.0%┣████████████████████████████████████████████┫ 10/10 [07:54<00:00, 53s/it]\n"
     ]
    },
    {
     "data": {
      "text/plain": [
       "0.9925141140918055"
      ]
     },
     "execution_count": 7,
     "metadata": {},
     "output_type": "execute_result"
    }
   ],
   "source": [
    "# Doppler shift\n",
    "pulse_Doppler = npzread(\"seq_Doppler.npz\")\n",
    "phase_list = pulse_Doppler[\"phase_list\"]\n",
    "num_slices = length(phase_list) - 1\n",
    "det_Dopp = pulse_Doppler[\"det_Dopp\"]\n",
    "Omega = pulse_Doppler[\"Omega\"]\n",
    "t_gate = pulse_Doppler[\"t_gate\"]\n",
    "\n",
    "Rydberg_BellFid(phase_list,\n",
    "                Omega,\n",
    "                t_gate,\n",
    "                num_slices,\n",
    "                δ=0.,\n",
    "                δ_Doppler=det_Dopp, \n",
    "                δ_blockade=Inf,\n",
    "                γ=0,\n",
    "                γ_loss=0,\n",
    "                ω_trap=2π * 30e-3,\n",
    "                nMax=10\n",
    "               )"
   ]
  },
  {
   "cell_type": "code",
   "execution_count": 8,
   "id": "061ae0da-5891-48aa-ad6f-1b05fac93860",
   "metadata": {},
   "outputs": [
    {
     "name": "stderr",
     "output_type": "stream",
     "text": [
      "0.0%┣                                              ┫ 0/100 [00:00<00:00, -0s/it]\n",
      "1.0%┣▍                                         ┫ 1/100 [00:38<Inf:Inf, InfGs/it]\n",
      "2.0%┣▉                                          ┫ 2/100 [01:07<01:49:27, 67s/it]\n",
      "3.0%┣█▎                                         ┫ 3/100 [01:30<01:12:29, 45s/it]\n",
      "4.0%┣█▊                                         ┫ 4/100 [01:55<01:01:23, 38s/it]\n",
      "5.0%┣██▎                                           ┫ 5/100 [02:30<59:30, 38s/it]\n",
      "6.0%┣██▊                                           ┫ 6/100 [03:04<57:32, 37s/it]\n",
      "7.0%┣███▏                                          ┫ 7/100 [03:24<52:38, 34s/it]\n",
      "8.0%┣███▊                                          ┫ 8/100 [03:49<50:11, 33s/it]\n",
      "9.0%┣████▏                                         ┫ 9/100 [04:20<49:18, 33s/it]\n",
      "10.0%┣████▍                                       ┫ 10/100 [04:42<46:55, 31s/it]\n",
      "11.0%┣████▉                                       ┫ 11/100 [05:10<46:00, 31s/it]\n",
      "12.0%┣█████▎                                      ┫ 12/100 [05:32<44:20, 30s/it]\n",
      "13.0%┣█████▊                                      ┫ 13/100 [05:56<43:00, 30s/it]\n",
      "14.0%┣██████▏                                     ┫ 14/100 [06:19<41:47, 29s/it]\n",
      "15.0%┣██████▋                                     ┫ 15/100 [06:43<40:46, 29s/it]\n",
      "16.0%┣███████                                     ┫ 16/100 [07:06<39:47, 28s/it]\n",
      "17.0%┣███████▌                                    ┫ 17/100 [07:33<39:08, 28s/it]\n",
      "18.0%┣████████                                    ┫ 18/100 [07:58<38:26, 28s/it]\n",
      "19.0%┣████████▍                                   ┫ 19/100 [08:23<37:45, 28s/it]\n",
      "20.0%┣████████▉                                   ┫ 20/100 [08:51<37:14, 28s/it]\n",
      "21.0%┣█████████▎                                  ┫ 21/100 [09:16<36:35, 28s/it]\n",
      "22.0%┣█████████▊                                  ┫ 22/100 [09:42<36:01, 28s/it]\n",
      "23.0%┣██████████▏                                 ┫ 23/100 [10:12<35:42, 28s/it]\n",
      "24.0%┣██████████▋                                 ┫ 24/100 [10:35<34:58, 28s/it]\n",
      "25.0%┣███████████                                 ┫ 25/100 [11:03<34:32, 28s/it]\n",
      "26.0%┣███████████▍                                ┫ 26/100 [11:28<33:58, 28s/it]\n",
      "27.0%┣███████████▉                                ┫ 27/100 [11:55<33:29, 28s/it]\n",
      "28.0%┣████████████▎                               ┫ 28/100 [12:22<32:59, 27s/it]\n",
      "29.0%┣████████████▊                               ┫ 29/100 [12:50<32:33, 28s/it]\n",
      "30.0%┣█████████████▏                              ┫ 30/100 [13:13<31:54, 27s/it]\n",
      "31.0%┣█████████████▋                              ┫ 31/100 [13:41<31:28, 27s/it]\n",
      "32.0%┣██████████████                              ┫ 32/100 [14:12<31:08, 27s/it]\n",
      "33.0%┣██████████████▌                             ┫ 33/100 [14:36<30:35, 27s/it]\n",
      "34.0%┣███████████████                             ┫ 34/100 [15:03<30:07, 27s/it]\n",
      "35.0%┣███████████████▍                            ┫ 35/100 [15:31<29:41, 27s/it]\n",
      "36.0%┣███████████████▉                            ┫ 36/100 [16:02<29:19, 27s/it]\n",
      "37.0%┣████████████████▎                           ┫ 37/100 [16:34<28:59, 28s/it]\n",
      "38.0%┣████████████████▊                           ┫ 38/100 [17:05<28:37, 28s/it]\n",
      "39.0%┣█████████████████▏                          ┫ 39/100 [17:46<28:32, 28s/it]\n",
      "40.0%┣█████████████████▋                          ┫ 40/100 [18:11<27:59, 28s/it]\n",
      "41.0%┣██████████████████                          ┫ 41/100 [18:38<27:29, 28s/it]\n",
      "42.0%┣██████████████████▌                         ┫ 42/100 [19:09<27:06, 28s/it]\n",
      "43.0%┣███████████████████                         ┫ 43/100 [19:38<26:39, 28s/it]\n",
      "44.0%┣███████████████████▍                        ┫ 44/100 [20:02<26:05, 28s/it]\n",
      "45.0%┣███████████████████▉                        ┫ 45/100 [20:38<25:47, 28s/it]\n",
      "46.0%┣████████████████████▎                       ┫ 46/100 [21:04<25:17, 28s/it]\n",
      "47.0%┣████████████████████▊                       ┫ 47/100 [21:30<24:46, 28s/it]\n",
      "48.0%┣█████████████████████▏                      ┫ 48/100 [22:01<24:22, 28s/it]\n",
      "49.0%┣█████████████████████▋                      ┫ 49/100 [22:26<23:50, 28s/it]\n",
      "50.0%┣██████████████████████                      ┫ 50/100 [22:53<23:21, 28s/it]\n",
      "51.0%┣██████████████████████▍                     ┫ 51/100 [23:27<22:59, 28s/it]\n",
      "52.0%┣██████████████████████▉                     ┫ 52/100 [23:52<22:27, 28s/it]\n",
      "53.0%┣███████████████████████▎                    ┫ 53/100 [24:24<22:03, 28s/it]\n",
      "54.0%┣███████████████████████▊                    ┫ 54/100 [24:49<21:32, 28s/it]\n",
      "55.0%┣████████████████████████▏                   ┫ 55/100 [25:18<21:05, 28s/it]\n",
      "56.0%┣████████████████████████▋                   ┫ 56/100 [25:58<20:46, 28s/it]\n",
      "57.0%┣█████████████████████████                   ┫ 57/100 [26:19<20:13, 28s/it]\n",
      "58.0%┣█████████████████████████▌                  ┫ 58/100 [26:55<19:50, 28s/it]\n",
      "59.0%┣██████████████████████████                  ┫ 59/100 [27:22<19:20, 28s/it]\n",
      "60.0%┣██████████████████████████▍                 ┫ 60/100 [27:44<18:48, 28s/it]\n",
      "61.0%┣██████████████████████████▉                 ┫ 61/100 [28:13<18:21, 28s/it]\n",
      "62.0%┣███████████████████████████▎                ┫ 62/100 [28:40<17:52, 28s/it]\n",
      "63.0%┣███████████████████████████▊                ┫ 63/100 [29:08<17:23, 28s/it]\n",
      "64.0%┣████████████████████████████▏               ┫ 64/100 [29:36<16:55, 28s/it]\n",
      "65.0%┣████████████████████████████▋               ┫ 65/100 [30:05<16:27, 28s/it]\n",
      "66.0%┣█████████████████████████████               ┫ 66/100 [30:24<15:54, 28s/it]\n",
      "67.0%┣█████████████████████████████▌              ┫ 67/100 [30:57<15:29, 28s/it]\n",
      "68.0%┣██████████████████████████████              ┫ 68/100 [31:22<14:59, 28s/it]\n",
      "69.0%┣██████████████████████████████▍             ┫ 69/100 [31:51<14:31, 28s/it]\n",
      "70.0%┣██████████████████████████████▉             ┫ 70/100 [32:20<14:04, 28s/it]\n",
      "71.0%┣███████████████████████████████▎            ┫ 71/100 [32:55<13:38, 28s/it]\n",
      "72.0%┣███████████████████████████████▊            ┫ 72/100 [33:14<13:06, 28s/it]\n",
      "73.0%┣████████████████████████████████▏           ┫ 73/100 [33:49<12:41, 28s/it]\n",
      "74.0%┣████████████████████████████████▋           ┫ 74/100 [34:19<12:13, 28s/it]\n",
      "75.0%┣█████████████████████████████████           ┫ 75/100 [34:41<11:43, 28s/it]\n",
      "76.0%┣█████████████████████████████████▍          ┫ 76/100 [35:16<11:17, 28s/it]\n",
      "77.0%┣█████████████████████████████████▉          ┫ 77/100 [35:40<10:48, 28s/it]\n",
      "78.0%┣██████████████████████████████████▎         ┫ 78/100 [36:22<10:23, 28s/it]\n",
      "79.0%┣██████████████████████████████████▊         ┫ 79/100 [36:57<09:57, 28s/it]\n",
      "80.0%┣███████████████████████████████████▏        ┫ 80/100 [37:27<09:29, 28s/it]\n",
      "81.0%┣███████████████████████████████████▋        ┫ 81/100 [38:00<09:01, 28s/it]\n",
      "82.0%┣████████████████████████████████████        ┫ 82/100 [38:28<08:33, 28s/it]\n",
      "83.0%┣████████████████████████████████████▌       ┫ 83/100 [38:58<08:05, 29s/it]\n",
      "84.0%┣█████████████████████████████████████       ┫ 84/100 [39:31<07:37, 29s/it]\n",
      "85.0%┣█████████████████████████████████████▍      ┫ 85/100 [39:58<07:08, 29s/it]\n",
      "86.0%┣█████████████████████████████████████▉      ┫ 86/100 [40:30<06:40, 29s/it]\n",
      "87.0%┣██████████████████████████████████████▎     ┫ 87/100 [40:55<06:11, 29s/it]\n",
      "88.0%┣██████████████████████████████████████▊     ┫ 88/100 [41:22<05:42, 29s/it]\n",
      "89.0%┣███████████████████████████████████████▏    ┫ 89/100 [41:57<05:15, 29s/it]\n",
      "90.0%┣███████████████████████████████████████▋    ┫ 90/100 [42:24<04:46, 29s/it]\n",
      "91.0%┣████████████████████████████████████████    ┫ 91/100 [42:51<04:17, 29s/it]\n",
      "92.0%┣████████████████████████████████████████▌   ┫ 92/100 [43:18<03:48, 29s/it]\n",
      "93.0%┣█████████████████████████████████████████   ┫ 93/100 [43:46<03:20, 29s/it]\n",
      "94.0%┣█████████████████████████████████████████▍  ┫ 94/100 [44:19<02:52, 29s/it]\n",
      "95.0%┣█████████████████████████████████████████▉  ┫ 95/100 [44:45<02:23, 29s/it]\n",
      "96.0%┣██████████████████████████████████████████▎ ┫ 96/100 [45:16<01:54, 29s/it]\n",
      "97.0%┣██████████████████████████████████████████▊ ┫ 97/100 [45:41<01:26, 29s/it]\n",
      "98.0%┣███████████████████████████████████████████▏┫ 98/100 [46:20<00:57, 29s/it]\n",
      "99.0%┣███████████████████████████████████████████▋┫ 99/100 [46:38<00:29, 29s/it]\n",
      "100.0%┣██████████████████████████████████████████┫ 100/100 [47:15<00:00, 29s/it]\n",
      "100.0%┣██████████████████████████████████████████┫ 100/100 [47:15<00:00, 29s/it]\n"
     ]
    },
    {
     "data": {
      "text/plain": [
       "0.9966998622612087"
      ]
     },
     "execution_count": 8,
     "metadata": {},
     "output_type": "execute_result"
    }
   ],
   "source": [
    "# Finite blockade\n",
    "\n",
    "pulse_blockade = npzread(\"seq_blockade.npz\")\n",
    "phase_list = pulse_blockade[\"phase_list\"]\n",
    "num_slices = length(phase_list) - 1\n",
    "det_blockade = pulse_blockade[\"det_blockade\"]\n",
    "Omega = pulse_blockade[\"Omega\"]\n",
    "t_gate = pulse_blockade[\"t_gate\"]\n",
    "\n",
    "Rydberg_BellFid(phase_list, \n",
    "                Omega, \n",
    "                t_gate, \n",
    "                num_slices,\n",
    "                δ=0., \n",
    "                δ_Doppler=0, \n",
    "                δ_blockade=det_blockade[],\n",
    "                γ=0,\n",
    "                γ_loss=0,\n",
    "                ω_trap=2π * 30e-3,\n",
    "                nMax=10\n",
    "               )"
   ]
  },
  {
   "cell_type": "code",
   "execution_count": null,
   "id": "77fdd37a-70f1-4d29-8f88-fa17351d8811",
   "metadata": {},
   "outputs": [],
   "source": []
  }
 ],
 "metadata": {
  "kernelspec": {
   "display_name": "Julia 1.13.0-DEV(auto thread)",
   "language": "julia",
   "name": "julia-1.13-thread"
  },
  "language_info": {
   "file_extension": ".jl",
   "mimetype": "application/julia",
   "name": "julia",
   "version": "1.13.0"
  }
 },
 "nbformat": 4,
 "nbformat_minor": 5
}
