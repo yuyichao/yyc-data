{
 "cells": [
  {
   "cell_type": "code",
   "execution_count": 1,
   "id": "b790400b-e259-48fb-8a64-9c4e662711bd",
   "metadata": {},
   "outputs": [],
   "source": [
    "include(\"fid_utils.jl\");"
   ]
  },
  {
   "cell_type": "markdown",
   "id": "cd7cf6c5-c3cb-44e5-b206-8aa70d76b7b5",
   "metadata": {},
   "source": [
    "# Calibration:\n",
    "First calculate how much population error is introduced by rotation angle error when driving a $\\pi$ pulse. We'll use this to convert $\\pi$ pulse population error into variance of rotation angle."
   ]
  },
  {
   "cell_type": "code",
   "execution_count": 2,
   "id": "a62e59d0-1198-44bb-aa4c-eec9cd00824e",
   "metadata": {},
   "outputs": [
    {
     "data": {
      "text/plain": [
       "1.0"
      ]
     },
     "metadata": {},
     "output_type": "display_data"
    },
    {
     "data": {
      "text/plain": [
       "2×2 Matrix{Float64}:\n",
       " -4.9348        3.70051e-32\n",
       "  3.70051e-32  -4.9348"
      ]
     },
     "metadata": {},
     "output_type": "display_data"
    }
   ],
   "source": [
    "function fid_π(εs)\n",
    "    sw = SysWrapper(sys2, εs)\n",
    "    ψ = R2_ratio(sw, 1, 2, 1) * sys2.ψ2s[1]\n",
    "    return norm(sys2.proj2s[2, 2] * ψ)^2\n",
    "end\n",
    "display(fid_π([0, 0]))\n",
    "m_π = ForwardDiff.hessian(fid_π, [0.0, 0.0])\n",
    "display(m_π)\n",
    "calib_scale = m_π[1, 1];"
   ]
  },
  {
   "cell_type": "markdown",
   "id": "ff68ca8d-06a5-42a7-b972-7edf211bda31",
   "metadata": {},
   "source": [
    "## $\\pi$ pulse calibration\n",
    "The $\\pi$ pulse population infidelity for the two chambers are measured to be $0.5%$ and $1%$."
   ]
  },
  {
   "cell_type": "code",
   "execution_count": 3,
   "id": "f91ded23-eeb1-4a4e-a2a8-a4021d651b3d",
   "metadata": {},
   "outputs": [],
   "source": [
    "err_a::Float64 = 0.5e-2;\n",
    "err_b::Float64 = 0.5e-2;"
   ]
  },
  {
   "cell_type": "code",
   "execution_count": 4,
   "id": "cb57c9d8-c612-4ded-adce-a2cc1b36c648",
   "metadata": {},
   "outputs": [
    {
     "data": {
      "text/plain": [
       "disp_sys (generic function with 1 method)"
      ]
     },
     "execution_count": 4,
     "metadata": {},
     "output_type": "execute_result"
    }
   ],
   "source": [
    "function disp_sys(sys, cb, name)\n",
    "    @assert all(cb(sys, [0, 0]) .≈ (1, 1))\n",
    "    mp = ForwardDiff.hessian((x)->cb(sys, x)[1], [0.0, 0.0])\n",
    "    mc = ForwardDiff.hessian((x)->cb(sys, x)[2], [0.0, 0.0])\n",
    "    err_p = mp[1, 1] * (err_a + err_b) / calib_scale * 100\n",
    "    err_c = mc[1, 1] * (err_a + err_b) / calib_scale * 100\n",
    "    display(Markdown.parse(\"## Error for $(name)\"))\n",
    "    display(Markdown.parse(\"**Population: $(round(err_p, digits=2))%**\"))\n",
    "    display(Markdown.parse(\"**Parity: $(round(err_c, digits=2))%**\"))\n",
    "    display(Markdown.parse(\"**Total: $(round((err_p + err_c) / 2, digits=2))%**\"))\n",
    "    display(mp)\n",
    "    display(mc)\n",
    "    display((mp .+ mc) ./ 2)\n",
    "    return err_p, err_c, (err_p + err_c) / 2\n",
    "end"
   ]
  },
  {
   "cell_type": "code",
   "execution_count": 5,
   "id": "416d2a35-f869-4ad6-b495-b40795f1a1f1",
   "metadata": {},
   "outputs": [
    {
     "data": {
      "text/plain": [
       "detect_fail (generic function with 1 method)"
      ]
     },
     "execution_count": 5,
     "metadata": {},
     "output_type": "execute_result"
    }
   ],
   "source": [
    "struct EmitWrapper{Sys,Ta,Tb,P}\n",
    "    sys::Sys\n",
    "    pa::Ta\n",
    "    pb::Tb\n",
    "    projs::Vector{P}\n",
    "end\n",
    "function EmitWrapper(sys, pa, pb)\n",
    "    proja1 = sys.proj1s[1] * sqrt(pa)\n",
    "    proja0 = sys.proj1s[1] * sqrt(1 - pa) + sys.proj1comps[1]\n",
    "    projb1 = sys.proj1s[1] * sqrt(pb)\n",
    "    projb0 = sys.proj1s[1] * sqrt(1 - pb) + sys.proj1comps[1]\n",
    "    projs = [proja0 ⊗ projb0, proja1 ⊗ projb0 + proja0 ⊗ projb1, proja1 ⊗ projb1]\n",
    "    return EmitWrapper(sys, pa, pb, projs)\n",
    "end\n",
    "function detect_success(ρ, ew::EmitWrapper)\n",
    "    return 2 * apply(ρ, ew.projs[3]) + apply(ρ, ew.projs[2])\n",
    "end\n",
    "function detect_fail(ρ, ew::EmitWrapper)\n",
    "    return apply(ρ, ew.projs[3]) + apply(ρ, ew.projs[2]) + apply(ρ, ew.projs[1])\n",
    "end"
   ]
  },
  {
   "cell_type": "code",
   "execution_count": 6,
   "id": "1e9943b8-8ebd-43b8-8eb0-2ceac8745a6b",
   "metadata": {},
   "outputs": [],
   "source": [
    "pa::Float64 = 0.8;\n",
    "pb::Float64 = 0.8;"
   ]
  },
  {
   "cell_type": "code",
   "execution_count": 7,
   "id": "73144186-672e-45f4-a511-3de45b57a81e",
   "metadata": {},
   "outputs": [
    {
     "data": {
      "text/plain": [
       "fid01_10 (generic function with 1 method)"
      ]
     },
     "execution_count": 7,
     "metadata": {},
     "output_type": "execute_result"
    }
   ],
   "source": [
    "function init_state(sw::SysWrapper{Sys} where Sys<:System{2}, ew::EmitWrapper, success)\n",
    "    ψ = R2_ratio(sw, 1, 2, 1 / 2) * sw.sys.ψ2s[1]\n",
    "    ρ = projector(ψ)\n",
    "    ρ = 1 in success ? detect_success(ρ, ew) : detect_fail(ρ, ew)\n",
    "    ρ = apply(ρ, R2_ratio(sw, 1, 2, 1))\n",
    "    return 2 in success ? detect_success(ρ, ew) : detect_fail(ρ, ew)\n",
    "end\n",
    "\n",
    "function fid01_10(sys::System{2}, εs)\n",
    "    sw = SysWrapper(sys, εs)\n",
    "    ew = EmitWrapper(sys, pa, pb)\n",
    "    ρ = init_state(sw, ew, (1, 2))\n",
    "    # 01 -> 10\n",
    "    ρ = apply(ρ, sys.proj2sub2[1, 2])\n",
    "    normalize!(ρ)\n",
    "    P_odd = real(tr(apply(ρ, sys.proj2s[1, 2])) + tr(apply(ρ, sys.proj2s[2, 1])))\n",
    "    ρ = apply(ρ, R2_ratio(sw, 1, 2, 1 / 2))\n",
    "    c = real(tr(apply(ρ, sys.proj2s[1, 1])) + tr(apply(ρ, sys.proj2s[2, 2])))\n",
    "    return P_odd, c\n",
    "end"
   ]
  },
  {
   "cell_type": "markdown",
   "id": "e09c6935-7880-4d59-a18b-8c0212d263c5",
   "metadata": {},
   "source": [
    "# $d=2$"
   ]
  },
  {
   "cell_type": "code",
   "execution_count": 8,
   "id": "0531137b-3010-4e0f-954e-f3d095a36ce6",
   "metadata": {},
   "outputs": [
    {
     "data": {
      "text/latex": [
       "\\section{Excitation probability \\textbf{\\$p=0.8\\$}}\n"
      ],
      "text/markdown": [
       "# Excitation probability **$p=0.8$**\n"
      ],
      "text/plain": [
       "\u001b[1m  Excitation probability \u001b[1m$p=0.8$\u001b[22m\u001b[22m\n",
       "  \u001b[1m≡≡≡≡≡≡≡≡≡≡≡≡≡≡≡≡≡≡≡≡≡≡≡≡≡≡≡≡≡≡\u001b[22m"
      ]
     },
     "metadata": {},
     "output_type": "display_data"
    },
    {
     "data": {
      "text/latex": [
       "\\subsection{Error for 01 -> 10}\n"
      ],
      "text/markdown": [
       "## Error for 01 -> 10\n"
      ],
      "text/plain": [
       "\u001b[1m  Error for 01 -> 10\u001b[22m\n",
       "  \u001b[1m==================\u001b[22m"
      ]
     },
     "metadata": {},
     "output_type": "display_data"
    },
    {
     "data": {
      "text/latex": [
       "\\textbf{Population: 1.2\\%}\n",
       "\n"
      ],
      "text/markdown": [
       "**Population: 1.2%**\n"
      ],
      "text/plain": [
       "  \u001b[1mPopulation: 1.2%\u001b[22m"
      ]
     },
     "metadata": {},
     "output_type": "display_data"
    },
    {
     "data": {
      "text/latex": [
       "\\textbf{Parity: 2.59\\%}\n",
       "\n"
      ],
      "text/markdown": [
       "**Parity: 2.59%**\n"
      ],
      "text/plain": [
       "  \u001b[1mParity: 2.59%\u001b[22m"
      ]
     },
     "metadata": {},
     "output_type": "display_data"
    },
    {
     "data": {
      "text/latex": [
       "\\textbf{Total: 1.9\\%}\n",
       "\n"
      ],
      "text/markdown": [
       "**Total: 1.9%**\n"
      ],
      "text/plain": [
       "  \u001b[1mTotal: 1.9%\u001b[22m"
      ]
     },
     "metadata": {},
     "output_type": "display_data"
    },
    {
     "data": {
      "text/plain": [
       "2×2 Matrix{Float64}:\n",
       " -5.92176  -5.92176\n",
       " -5.92176  -5.92176"
      ]
     },
     "metadata": {},
     "output_type": "display_data"
    },
    {
     "data": {
      "text/plain": [
       "2×2 Matrix{Float64}:\n",
       " -12.803         -7.10543e-15\n",
       "  -7.54952e-15  -12.803"
      ]
     },
     "metadata": {},
     "output_type": "display_data"
    },
    {
     "data": {
      "text/plain": [
       "2×2 Matrix{Float64}:\n",
       " -9.36237  -2.96088\n",
       " -2.96088  -9.36237"
      ]
     },
     "metadata": {},
     "output_type": "display_data"
    },
    {
     "data": {
      "text/latex": [
       "\\section{Excitation probability \\textbf{\\$p=1.0\\$}}\n"
      ],
      "text/markdown": [
       "# Excitation probability **$p=1.0$**\n"
      ],
      "text/plain": [
       "\u001b[1m  Excitation probability \u001b[1m$p=1.0$\u001b[22m\u001b[22m\n",
       "  \u001b[1m≡≡≡≡≡≡≡≡≡≡≡≡≡≡≡≡≡≡≡≡≡≡≡≡≡≡≡≡≡≡\u001b[22m"
      ]
     },
     "metadata": {},
     "output_type": "display_data"
    },
    {
     "data": {
      "text/latex": [
       "\\subsection{Error for 01 -> 10}\n"
      ],
      "text/markdown": [
       "## Error for 01 -> 10\n"
      ],
      "text/plain": [
       "\u001b[1m  Error for 01 -> 10\u001b[22m\n",
       "  \u001b[1m==================\u001b[22m"
      ]
     },
     "metadata": {},
     "output_type": "display_data"
    },
    {
     "data": {
      "text/latex": [
       "\\textbf{Population: 1.0\\%}\n",
       "\n"
      ],
      "text/markdown": [
       "**Population: 1.0%**\n"
      ],
      "text/plain": [
       "  \u001b[1mPopulation: 1.0%\u001b[22m"
      ]
     },
     "metadata": {},
     "output_type": "display_data"
    },
    {
     "data": {
      "text/latex": [
       "\\textbf{Parity: 1.5\\%}\n",
       "\n"
      ],
      "text/markdown": [
       "**Parity: 1.5%**\n"
      ],
      "text/plain": [
       "  \u001b[1mParity: 1.5%\u001b[22m"
      ]
     },
     "metadata": {},
     "output_type": "display_data"
    },
    {
     "data": {
      "text/latex": [
       "\\textbf{Total: 1.25\\%}\n",
       "\n"
      ],
      "text/markdown": [
       "**Total: 1.25%**\n"
      ],
      "text/plain": [
       "  \u001b[1mTotal: 1.25%\u001b[22m"
      ]
     },
     "metadata": {},
     "output_type": "display_data"
    },
    {
     "data": {
      "text/plain": [
       "2×2 Matrix{Float64}:\n",
       " -4.9348  -4.9348\n",
       " -4.9348  -4.9348"
      ]
     },
     "metadata": {},
     "output_type": "display_data"
    },
    {
     "data": {
      "text/plain": [
       "2×2 Matrix{Float64}:\n",
       " -7.4022       -1.33227e-15\n",
       " -1.77636e-15  -7.4022"
      ]
     },
     "metadata": {},
     "output_type": "display_data"
    },
    {
     "data": {
      "text/plain": [
       "2×2 Matrix{Float64}:\n",
       " -6.1685  -2.4674\n",
       " -2.4674  -6.1685"
      ]
     },
     "metadata": {},
     "output_type": "display_data"
    }
   ],
   "source": [
    "display(md\"# Excitation probability **\\$p=0.8\\$**\")\n",
    "pa::Float64 = 0.8;\n",
    "pb::Float64 = 0.8;\n",
    "d2_70 = (f01_10=disp_sys(sys2, fid01_10, \"01 -> 10\"),);\n",
    "display(md\"# Excitation probability **\\$p=1.0\\$**\")\n",
    "pa::Float64 = 1;\n",
    "pb::Float64 = 1;\n",
    "d2_100 = (f01_10=disp_sys(sys2, fid01_10, \"01 -> 10\"),);"
   ]
  }
 ],
 "metadata": {
  "kernelspec": {
   "display_name": "Julia 1.13.0-DEV(auto thread)",
   "language": "julia",
   "name": "julia-1.13-thread"
  },
  "language_info": {
   "file_extension": ".jl",
   "mimetype": "application/julia",
   "name": "julia",
   "version": "1.13.0"
  }
 },
 "nbformat": 4,
 "nbformat_minor": 5
}
